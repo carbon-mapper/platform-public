{
 "cells": [
  {
   "cell_type": "markdown",
   "id": "ea057330-46bd-43df-a580-1922e568f341",
   "metadata": {},
   "source": [
    "# Filtering and Downloading Plumes as a CSV\n",
    "\n",
    "In this tutorial, we will use the plume CSV download resource to discover and download a collection of plumes in CSV format. See the [plume CSV API documentation](https://api.carbonmapper.org/api/v1/docs#/Public/catalog_api_plume_plume_csv) for more information about the resource and its parameters.\n",
    "\n",
    "The resource provides the `intersects` parameter, which accepts a feature's GeoJSON geometry and will filter for plumes that intersect the provided geometry. Our GeoJSON is a simplified representation of the state of California. Note that there is an 8,192 byte API URL size limit for requests, hence the simplified GeoJSON. We will also provide a 3-year date range for our query."
   ]
  },
  {
   "cell_type": "markdown",
   "id": "5ba1956a-0130-4836-ae5c-74d5840a0005",
   "metadata": {},
   "source": [
    "## Installing Requirements\n",
    "\n",
    "For tutorial purposes, we will use IPython's [pip](https://ipython.readthedocs.io/en/stable/interactive/magics.html#magic-pip) magic command to install the [Requests](https://pypi.org/project/requests/) requirement in the current kernel."
   ]
  },
  {
   "cell_type": "code",
   "execution_count": null,
   "id": "b6d40888-b514-4642-b57a-0bf1c04c7d18",
   "metadata": {},
   "outputs": [],
   "source": [
    "%pip install requests"
   ]
  },
  {
   "cell_type": "markdown",
   "id": "f0b6d805-14d0-4405-b159-7da6e85ce190",
   "metadata": {},
   "source": [
    "## Requesting an Access Token\n",
    "\n",
    "The catalog download endpoint requires a platform API token. The [STAC token tutorial](https://github.com/carbon-mapper/platform-public/blob/main/tutorials/scoped_token.ipynb) provides a process to create, store, and print a scoped token. The STAC token tutorial can be used to store the token with IPython. If the token exists in IPython storage, we ask to use it. If it hasn't been stored, or the user declines to use it, we ask the user to provide a token.\n",
    "\n",
    "Information about manually creating a scoped token can be found in the tutorials [README](https://github.com/carbon-mapper/platform-public/tree/main/tutorials#api-authentication)."
   ]
  },
  {
   "cell_type": "code",
   "execution_count": null,
   "id": "555e4c4c-9e49-46a2-bd9a-20a5c32af4fd",
   "metadata": {},
   "outputs": [],
   "source": [
    "# Retrieve IPython storage\n",
    "%store -r\n",
    "\n",
    "# Try to get a scoped token\n",
    "try:\n",
    "    # The token can be retrieved from IPython magic storage if the user elected to store it in the STAC token tutorial\n",
    "    token = cm_scoped_token[\"token_value\"]\n",
    "except NameError:\n",
    "    # The token does not exist in magic storage\n",
    "    token = None\n",
    "else:\n",
    "    # The token exists in magic storage\n",
    "    if input(\"Existing scoped token found in IPython storage. Would you like to use it? (Y/n)? \").lower() != \"y\":\n",
    "        token = None\n",
    "finally:\n",
    "    if not token:\n",
    "        # Allow the token value to be provided by the user if it was not found in magic storage\n",
    "        token = input(\"Enter your Carbon Mapper platform API scoped token: \")\n",
    "\n",
    "if not token:\n",
    "    raise ValueError(\"A scoped token is required for this tutorial.\")"
   ]
  },
  {
   "cell_type": "markdown",
   "id": "493ab520-ea3f-47f8-b4c7-3e2eff5db027",
   "metadata": {},
   "source": [
    "## Filtering and Downloading Plumes"
   ]
  },
  {
   "cell_type": "code",
   "execution_count": null,
   "id": "6288e501-ba39-44b9-8b8f-fe5baaa94c19",
   "metadata": {
    "scrolled": true
   },
   "outputs": [],
   "source": [
    "import csv\n",
    "import os\n",
    "from pathlib import Path\n",
    "\n",
    "import requests\n",
    "\n",
    "base_url = \"https://api.carbonmapper.org/api/v1/\"\n",
    "# If empty, downloaded CSV will be saved to current working directory\n",
    "file_path = Path(\"\")\n",
    "file_name = \"plumes.csv\"\n",
    "abs_path = os.path.abspath(file_path / file_name)\n",
    "payload = {\n",
    "    \"intersects\": '{\"type\": \"MultiPolygon\", \"coordinates\": [[[[-120.248484, 33.999329], [-120.043259, 34.035806], [-119.97026, 33.944359], [-120.121817, 33.895712], [-120.248484, 33.999329]]], [[[-119.789798, 34.05726], [-119.637742, 34.013178], [-119.52064, 34.034262], [-119.758141, 33.959212], [-119.923337, 34.069361], [-119.789798, 34.05726]]], [[[-120.46258, 34.042627], [-120.368278, 34.076465], [-120.302122, 34.023574], [-120.35793, 34.015029], [-120.46258, 34.042627]]], [[[-119.543842, 33.280329], [-119.465717, 33.259239], [-119.429559, 33.228167], [-119.545872, 33.233406], [-119.543842, 33.280329]]], [[[-119.422972, 34.004368], [-119.441226, 34.014075], [-119.357462, 34.015919], [-119.391551, 34.002505], [-119.422972, 34.004368]]], [[[-118.524531, 32.895488], [-118.605534, 33.030999], [-118.353504, 32.821962], [-118.425634, 32.800595], [-118.524531, 32.895488]]], [[[-118.500212, 33.449592], [-118.370323, 33.409285], [-118.305084, 33.310323], [-118.60403, 33.47654], [-118.500212, 33.449592]]], [[[-122.418698, 37.852717], [-122.434403, 37.852434], [-122.446316, 37.861046], [-122.421341, 37.869946], [-122.418698, 37.852717]]], [[[-123.013916, 37.700355], [-123.004489, 37.706262], [-122.997189, 37.697909], [-123.005543, 37.689392], [-123.013916, 37.700355]]], [[[-122.3785, 37.826505], [-122.369941, 37.832137], [-122.362661, 37.807577], [-122.372422, 37.811301], [-122.3785, 37.826505]]], [[[-124.065521, 41.464739], [-124.211605, 41.99846], [-119.999168, 41.99454], [-120.001014, 38.999574], [-114.633013, 35.002085], [-114.131489, 34.260387], [-114.43338, 34.088413], [-114.535664, 33.568788], [-114.721233, 33.396912], [-114.496284, 32.822326], [-117.124862, 32.534156], [-117.469794, 33.296417], [-118.132698, 33.753217], [-118.411211, 33.741985], [-118.519514, 34.027509], [-119.130169, 34.100102], [-119.559459, 34.413395], [-120.637805, 34.56622], [-120.644311, 35.139616], [-121.888491, 36.30281], [-121.978592, 36.580488], [-121.814462, 36.682858], [-121.862266, 36.931552], [-122.405073, 37.195791], [-122.514483, 37.780829], [-122.111344, 37.50758], [-122.430087, 37.963115], [-122.273006, 38.07438], [-122.489974, 38.112014], [-122.505383, 37.822128], [-123.024066, 37.994878], [-122.977082, 38.267902], [-123.725367, 38.917438], [-123.851714, 39.832041], [-124.409591, 40.438076], [-124.137066, 40.925732], [-124.065521, 41.464739]]]]}',\n",
    "    \"datetime\": \"2020-01-01/2023-12-31\",\n",
    "    \"limit\": 1000,  # Page size (resource default 500, max. 1000)\n",
    "}\n",
    "\n",
    "# An empty string to hold CSV data as it is downloaded\n",
    "plumes_csv = \"\"\n",
    "\n",
    "# Loop until all pages are retrieved\n",
    "while True:\n",
    "    response = requests.get(\n",
    "        f\"{base_url}catalog/plume-csv\",\n",
    "        params=payload,\n",
    "        headers={\"Authorization\": f\"Bearer {token}\"},\n",
    "    )\n",
    "    response.raise_for_status()\n",
    "\n",
    "    if \"limit\" not in payload:\n",
    "        # Set limit from response if not provided in payload\n",
    "        payload[\"limit\"] = int(response.headers[\"pagination-limit\"])\n",
    "    \n",
    "    if \"offset\" not in payload:\n",
    "        # Get field names and data in first loop\n",
    "        plumes_csv += response.content.decode(\"utf-8\")\n",
    "    else:\n",
    "        # Don't add field names to existing CSV\n",
    "        plumes_csv += response.content.decode(\"utf-8\").split(\"\\r\\n\", 1)[1]\n",
    "\n",
    "    print(\n",
    "        \"Downloaded {total} of {count} records.\".format(\n",
    "            total=len(plumes_csv.strip().split(\"\\r\\n\")[1:]),\n",
    "            count=response.headers[\"pagination-count\"],\n",
    "        )\n",
    "    )\n",
    "\n",
    "    # Configure payload to request next page\n",
    "    payload[\"offset\"] = int(response.headers[\"pagination-offset\"]) + payload[\"limit\"]\n",
    "\n",
    "    # No more records to download\n",
    "    if payload[\"offset\"] >= int(response.headers[\"pagination-count\"]):\n",
    "        break\n",
    "\n",
    "confirm = input(\"{action} file ({abs_path})? Y/n\".format(\n",
    "    action=\"Overwrite\" if Path(abs_path).is_file() else \"Save\",\n",
    "    abs_path=abs_path,\n",
    "))\n",
    "\n",
    "if confirm.lower() == \"y\":\n",
    "    # Save the plumes to disk\n",
    "    with open(abs_path, \"w\") as file:\n",
    "        file.write(plumes_csv)\n",
    "\n",
    "    print(f\"Plumes downloaded to {abs_path}.\")"
   ]
  }
 ],
 "metadata": {
  "kernelspec": {
   "display_name": "Python 3 (ipykernel)",
   "language": "python",
   "name": "python3"
  },
  "language_info": {
   "codemirror_mode": {
    "name": "ipython",
    "version": 3
   },
   "file_extension": ".py",
   "mimetype": "text/x-python",
   "name": "python",
   "nbconvert_exporter": "python",
   "pygments_lexer": "ipython3",
   "version": "3.12.10"
  }
 },
 "nbformat": 4,
 "nbformat_minor": 5
}
