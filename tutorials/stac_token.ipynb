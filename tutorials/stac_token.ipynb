{
 "cells": [
  {
   "metadata": {},
   "cell_type": "markdown",
   "source": [
    "# Requesting a scoped API Token With STAC Privileges\n",
    "\n",
    "In this tutorial, we will request an access token from the platform API, and then request a scoped API token with STAC privileges from the [create STAC token](https://api.carbonmapper.org/api/v1/docs#/Account/account_api_token_tokens_create_stac) endpoint.\n",
    "\n",
    "Endpoint access levels are determined by token scopes. While some endpoints are entirely public and others private, some others return different results depending on the authorization afforded by the token scope and the group that the account belongs to. The default scopes provided to a newly registered account are _STAC_ and _catalog:read_, and will belong to the _Public_ group. Information about public, catalog, and STAC endpoints can be found in the [Carbon Mapper platform API documentation](https://carbonmapper.org/api/v1/docs/).\n",
    "\n",
    "A Carbon Mapper platform account [registration](https://platform.carbonmapper.org/account/register/) is required in order to request the access token used to grant the scoped API token."
   ],
   "id": "b4fe2ffde6eb93d3"
  },
  {
   "metadata": {},
   "cell_type": "code",
   "outputs": [],
   "execution_count": null,
   "source": [
    "import getpass\n",
    "import json\n",
    "from datetime import datetime, timedelta\n",
    "\n",
    "import requests\n",
    "\n",
    "\n",
    "base_url = \"http://localhost:8080/api/v1/\"\n",
    "\n",
    "# Request an account token\n",
    "account_token_path = \"token/pair\"\n",
    "account_email = input(\"Enter the email address associated with your Carbon Mapper account: \")\n",
    "account_password = getpass.getpass(\"Enter the password associated with your Carbon Mapper account: \")\n",
    "payload = {\n",
    "    \"email\": account_email,\n",
    "    \"password\": account_password,\n",
    "}\n",
    "\n",
    "response = requests.post(\n",
    "    f\"{base_url}{account_token_path}\",\n",
    "    json=payload,\n",
    ")\n",
    "response.raise_for_status()\n",
    "\n",
    "access_token = response.json()[\"access\"]\n",
    "\n",
    "# Request a scoped token with STAC privileges\n",
    "stac_token_path = \"account/tokens/create-stac\"\n",
    "stac_token_name = input(\"Enter the token name: \")\n",
    "# The token should expire one week from today\n",
    "expiration_date = datetime.now() + timedelta(days=7)\n",
    "payload = {\n",
    "    \"expiration_date\": expiration_date.strftime(\"%Y-%m-%d\"),\n",
    "    \"name\": stac_token_name,\n",
    "}\n",
    "\n",
    "response = requests.post(\n",
    "    f\"{base_url}{stac_token_path}\",\n",
    "    json=payload,\n",
    "    headers={\"Authorization\": f\"Bearer {access_token}\"},\n",
    ")\n",
    "response.raise_for_status()\n",
    "\n",
    "print(json.dumps(response.json(), indent=4))"
   ],
   "id": "2495a407c06be64a"
  }
 ],
 "metadata": {
  "kernelspec": {
   "display_name": "Python 3 (ipykernel)",
   "language": "python",
   "name": "python3"
  },
  "language_info": {
   "codemirror_mode": {
    "name": "ipython",
    "version": 3
   },
   "file_extension": ".py",
   "mimetype": "text/x-python",
   "name": "python",
   "nbconvert_exporter": "python",
   "pygments_lexer": "ipython3",
   "version": "3.10.14"
  }
 },
 "nbformat": 4,
 "nbformat_minor": 5
}
