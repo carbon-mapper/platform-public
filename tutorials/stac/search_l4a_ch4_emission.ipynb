{
 "cells": [
  {
   "cell_type": "markdown",
   "id": "cd53ec32-34c4-4620-96b4-817e3b73bfcd",
   "metadata": {},
   "source": [
    "# Searching L4A CH<sub>4</sub> Records\n",
    "\n",
    "This tutorial provides steps for querying the L4A CH<sub>4</sub> collection using the Carbon Mapper platform STAC API.\n",
    "\n",
    "## Installing Requirements\n",
    "\n",
    "For tutorial purposes, we will use IPython's pip magic command to install the [PySTAC Client](https://github.com/stac-utils/pystac-client) requirement in the current kernel."
   ]
  },
  {
   "cell_type": "code",
   "execution_count": null,
   "id": "ad5f96a7-bab2-4390-93cc-1e3071496c04",
   "metadata": {},
   "outputs": [],
   "source": [
    "%pip install pystac-client"
   ]
  },
  {
   "cell_type": "markdown",
   "id": "58834a67-5c30-4e02-b273-d825c9423d97",
   "metadata": {},
   "source": [
    "## Initalizing the Client\n",
    "\n",
    "Initialize PySTAC-Client and print any errors that occur."
   ]
  },
  {
   "cell_type": "code",
   "execution_count": null,
   "id": "fecc84db-dbb7-47ae-ad91-d85b18e108c1",
   "metadata": {},
   "outputs": [],
   "source": [
    "from pystac_client import Client\n",
    "from pystac_client.exceptions import APIError\n",
    "\n",
    "catalog_url = \"https://api.carbonmapper.org/api/v1/stac/\"\n",
    "\n",
    "try:\n",
    "    catalog = Client.open(catalog_url)\n",
    "except APIError as e:\n",
    "    for message in json.loads(str(e))[\"messages\"]:\n",
    "        print(\"Error:\", message[\"message\"])\n",
    "\n",
    "    raise Exception(e)"
   ]
  },
  {
   "cell_type": "markdown",
   "id": "420624cd-a476-4174-9149-a10b47e65e58",
   "metadata": {},
   "source": [
    "## Searching the L4A-CH<sub>4</sub> Collection\n",
    "\n",
    "Because the Carbon Mapper platform STAC API supports the Query extension, searches can be performed on properties in addition to those defined by the [STAC specifications](https://github.com/radiantearth/stac-api-spec/tree/release/v1.0.0/item-search#query-parameter-table). We will use a specification query parameter, `datetime`, and one additional field, `cm:emission` to find observations of emissions measuring greater than 3,000 kg/hr between 2023 and 2024. After printing the feature ID and recorded emission, we will print the available properties of those features. The additional properties available can vary feature-to-feature, so the list will not be representative of every feature's available properties."
   ]
  },
  {
   "cell_type": "code",
   "execution_count": null,
   "id": "d5044c05-7908-4c98-8893-6acf955e364d",
   "metadata": {},
   "outputs": [],
   "source": [
    "import json\n",
    "from datetime import datetime\n",
    "\n",
    "collections = catalog.get_collections()\n",
    "print(\"L4A collections:\\n\")\n",
    "\n",
    "for collection in collections:\n",
    "    if \"l4a\" in collection.id:\n",
    "        print(f\"\\t{collection.id}\")\n",
    "\n",
    "parameters = {\n",
    "    \"max_items\": 10,  # Limit results for tutorial\n",
    "    \"datetime\": (\n",
    "        datetime.strptime(\"20230101\", \"%Y%m%d\"),  # Inclusive start\n",
    "        datetime.strptime(\"20240101\", \"%Y%m%d\"),  # Exclusive end\n",
    "    ),\n",
    "    \"query\": {\"cm:emission\": {\"gt\": 3000}},  # Emissions greater than 3000 kg/hr\n",
    "    \"collections\": \"l4a-ch4\",\n",
    "}\n",
    "search = catalog.search(**parameters)\n",
    "print(\"\\nFeatures:\\n\")\n",
    "\n",
    "for item in list(search.items_as_dicts()):    \n",
    "    print(\n",
    "        f\"\\tEmission for plume with ID {item['id']}: {item['properties']['cm:emission']:.0f} +/-\"\n",
    "        f\" {item['properties']['cm:emission_uncertainty']:.0f} kg/hr\"\n",
    "    )\n",
    "\n",
    "properties = list()\n",
    "\n",
    "for item in list(search.items_as_dicts()):\n",
    "    for property in item['properties'].keys():\n",
    "        if property not in properties:\n",
    "            properties.append(property)\n",
    "\n",
    "print(\"\\nFeature properties:\\n\")\n",
    "print(\"\\t{}\".format(\"\\n\\t\".join(sorted(properties))))"
   ]
  }
 ],
 "metadata": {
  "kernelspec": {
   "display_name": "Python 3 (ipykernel)",
   "language": "python",
   "name": "python3"
  },
  "language_info": {
   "codemirror_mode": {
    "name": "ipython",
    "version": 3
   },
   "file_extension": ".py",
   "mimetype": "text/x-python",
   "name": "python",
   "nbconvert_exporter": "python",
   "pygments_lexer": "ipython3",
   "version": "3.10.14"
  }
 },
 "nbformat": 4,
 "nbformat_minor": 5
}
