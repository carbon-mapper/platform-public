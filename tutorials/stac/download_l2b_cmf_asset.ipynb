{
 "cells": [
  {
   "cell_type": "markdown",
   "id": "7e9b8d25-0835-4fce-bd2e-29de981c28ee",
   "metadata": {},
   "source": [
    "# Downloading an L2B Column-Wise Matched Filter (CMF) Asset\n",
    "\n",
    "This tutorial provides steps to download an L2B CMF asset using the Carbon Mapper platform STAC API.\n",
    "\n",
    "## Installing Requirements\n",
    "\n",
    "For tutorial purposes, we will use IPython's [pip](https://ipython.readthedocs.io/en/stable/interactive/magics.html#magic-pip) magic command to install the [Requests](https://pypi.org/project/requests/), [PickleShare](https://github.com/ipython/pickleshare), and [PySTAC Client](https://github.com/stac-utils/pystac-client) requirements in the current kernel."
   ]
  },
  {
   "cell_type": "code",
   "execution_count": null,
   "id": "7ca65ab4-4346-4228-a0a4-432ea6a6e7f0",
   "metadata": {},
   "outputs": [],
   "source": [
    "%pip install requests pickleshare pystac-client"
   ]
  },
  {
   "cell_type": "markdown",
   "id": "84323acd-926e-440a-b882-40ab2956c7a1",
   "metadata": {},
   "source": [
    "## Requesting a Scoped Access Token\n",
    "\n",
    "While many Carbon Mapper platform STAC API resources do not require authentication to access, some resources, such as asset downloads, do. This tutorial will require authentication, and so will require a scoped token with STAC privileges. The [STAC token tutorial](https://github.com/carbon-mapper/platform-public/blob/main/tutorials/scoped_token.ipynb) provides a process to create, store, and print a scoped token. The STAC token tutorial can be used to store the token with IPython. If the token exists in IPython storage, we ask to use it. If it hasn't been stored, or the user declines to use it, we ask the user to provide a token.\n",
    "\n",
    "Information about manually creating a scoped token can be found in the tutorials [README](https://github.com/carbon-mapper/platform-public/tree/main/tutorials#api-authentication)."
   ]
  },
  {
   "cell_type": "code",
   "execution_count": null,
   "id": "180617dd-16f4-4a12-8a8f-b93178b265e9",
   "metadata": {},
   "outputs": [],
   "source": [
    "# Retrieve IPython storage\n",
    "%store -r\n",
    "\n",
    "# Try to get a scoped token\n",
    "try:\n",
    "    # The token can be retrieved from IPython magic storage if the user elected to store it in the STAC token tutorial\n",
    "    token = cm_scoped_token[\"token_value\"]\n",
    "except NameError:\n",
    "    # The token does not exist in magic storage\n",
    "    token = None\n",
    "else:\n",
    "    # The token exists in magic storage\n",
    "    if input(\"Existing scoped token found in IPython storage. Would you like to use it? (Y/n)? \").lower() != \"y\":\n",
    "        token = None\n",
    "finally:\n",
    "    if not token:\n",
    "        # Allow the token value to be provided by the user if it was not found in magic storage\n",
    "        token = input(\"Enter your Carbon Mapper platform API scoped token: \")\n",
    "\n",
    "if not token:\n",
    "    raise ValueError(\"A scoped token is required for this tutorial.\")"
   ]
  },
  {
   "cell_type": "markdown",
   "id": "191dc133-012c-4642-9d9f-0f61d76f8152",
   "metadata": {},
   "source": [
    "## Initalizing the Client\n",
    "\n",
    "After a token is provided we can set the catalog URL, initialize PySTAC-Client, and print any errors that occur."
   ]
  },
  {
   "cell_type": "code",
   "execution_count": null,
   "id": "1cfb042d-e61b-4653-9325-492178999779",
   "metadata": {},
   "outputs": [],
   "source": [
    "import json\n",
    "\n",
    "from pystac_client import Client\n",
    "from pystac_client.exceptions import APIError\n",
    "\n",
    "catalog_url = \"https://api.carbonmapper.org/api/v1/stac/\"\n",
    "headers = {\"Authorization\": f\"Bearer {token}\"}\n",
    "\n",
    "try:\n",
    "    catalog = Client.open(catalog_url, headers=headers)\n",
    "except APIError as e:\n",
    "    for message in json.loads(str(e))[\"messages\"]:\n",
    "        print(\"Error:\", message[\"message\"])"
   ]
  },
  {
   "cell_type": "markdown",
   "id": "45cc9457-ff75-44ce-86d6-3b6220574bd4",
   "metadata": {},
   "source": [
    "## Downloading a CMF Asset\n",
    "\n",
    "With the previous steps successful, we are now ready to use the Level 2B CO<sub>2</sub> FeatureCollection resource to download a CMF asset. We will review the available L2B collections, search for L2B CO<sub>2</sub> features using a simplified GeoJSON representation of the state of California, and then download a CMF asset from the first result."
   ]
  },
  {
   "cell_type": "code",
   "execution_count": null,
   "id": "13af0919-11a5-4d59-abba-6b1739c051d8",
   "metadata": {},
   "outputs": [],
   "source": [
    "import os\n",
    "import requests\n",
    "from pathlib import Path, PurePath\n",
    "from urllib.parse import urlparse\n",
    "\n",
    "collections = catalog.get_collections()\n",
    "print(\"L2B collections:\\n\")\n",
    "\n",
    "for collection in collections:\n",
    "    if \"l2b\" in collection.id:\n",
    "        print(f\"\\t{collection.id}\")\n",
    "\n",
    "aoi_geojson = '{\"type\": \"MultiPolygon\", \"coordinates\": [[[[-120.248484, 33.999329], [-120.043259, 34.035806], [-119.97026, 33.944359], [-120.121817, 33.895712], [-120.248484, 33.999329]]], [[[-119.789798, 34.05726], [-119.637742, 34.013178], [-119.52064, 34.034262], [-119.758141, 33.959212], [-119.923337, 34.069361], [-119.789798, 34.05726]]], [[[-120.46258, 34.042627], [-120.368278, 34.076465], [-120.302122, 34.023574], [-120.35793, 34.015029], [-120.46258, 34.042627]]], [[[-119.543842, 33.280329], [-119.465717, 33.259239], [-119.429559, 33.228167], [-119.545872, 33.233406], [-119.543842, 33.280329]]], [[[-119.422972, 34.004368], [-119.441226, 34.014075], [-119.357462, 34.015919], [-119.391551, 34.002505], [-119.422972, 34.004368]]], [[[-118.524531, 32.895488], [-118.605534, 33.030999], [-118.353504, 32.821962], [-118.425634, 32.800595], [-118.524531, 32.895488]]], [[[-118.500212, 33.449592], [-118.370323, 33.409285], [-118.305084, 33.310323], [-118.60403, 33.47654], [-118.500212, 33.449592]]], [[[-122.418698, 37.852717], [-122.434403, 37.852434], [-122.446316, 37.861046], [-122.421341, 37.869946], [-122.418698, 37.852717]]], [[[-123.013916, 37.700355], [-123.004489, 37.706262], [-122.997189, 37.697909], [-123.005543, 37.689392], [-123.013916, 37.700355]]], [[[-122.3785, 37.826505], [-122.369941, 37.832137], [-122.362661, 37.807577], [-122.372422, 37.811301], [-122.3785, 37.826505]]], [[[-124.065521, 41.464739], [-124.211605, 41.99846], [-119.999168, 41.99454], [-120.001014, 38.999574], [-114.633013, 35.002085], [-114.131489, 34.260387], [-114.43338, 34.088413], [-114.535664, 33.568788], [-114.721233, 33.396912], [-114.496284, 32.822326], [-117.124862, 32.534156], [-117.469794, 33.296417], [-118.132698, 33.753217], [-118.411211, 33.741985], [-118.519514, 34.027509], [-119.130169, 34.100102], [-119.559459, 34.413395], [-120.637805, 34.56622], [-120.644311, 35.139616], [-121.888491, 36.30281], [-121.978592, 36.580488], [-121.814462, 36.682858], [-121.862266, 36.931552], [-122.405073, 37.195791], [-122.514483, 37.780829], [-122.111344, 37.50758], [-122.430087, 37.963115], [-122.273006, 38.07438], [-122.489974, 38.112014], [-122.505383, 37.822128], [-123.024066, 37.994878], [-122.977082, 38.267902], [-123.725367, 38.917438], [-123.851714, 39.832041], [-124.409591, 40.438076], [-124.137066, 40.925732], [-124.065521, 41.464739]]]]}'\n",
    "# Limit max_items to reduce streaming time\n",
    "search = catalog.search(max_items=5, intersects=aoi_geojson, collections=\"l2b-co2\", method=\"GET\")\n",
    "items = list(search.items_as_dicts())\n",
    "item_cmf_asset_url = items[0][\"assets\"][\"cmf.tif\"][\"href\"]\n",
    "\n",
    "print(\"\\n\", len(items), \"items found.\")\n",
    "\n",
    "# Download the asset\n",
    "response = requests.get(item_cmf_asset_url, headers=headers)\n",
    "\n",
    "# If empty, will save to current working directory\n",
    "file_path = Path(\"\")\n",
    "# Get filename from download asset URL\n",
    "file_name = PurePath(urlparse(item_cmf_asset_url).path).name\n",
    "abs_path = os.path.abspath(file_path / file_name)\n",
    "\n",
    "confirm = input(\"{action} file ({abs_path})? Y/n\".format(\n",
    "    action=\"Overwrite\" if Path(abs_path).is_file() else \"Save\",\n",
    "    abs_path=abs_path,\n",
    "))\n",
    "\n",
    "if confirm.lower() == \"y\":\n",
    "    # Save the asset to disk\n",
    "    with open(abs_path, \"wb\") as file:\n",
    "        file.write(response.content)\n",
    "\n",
    "    print(f\"Asset downloaded to {abs_path}.\")"
   ]
  }
 ],
 "metadata": {
  "kernelspec": {
   "display_name": "Python 3 (ipykernel)",
   "language": "python",
   "name": "python3"
  },
  "language_info": {
   "codemirror_mode": {
    "name": "ipython",
    "version": 3
   },
   "file_extension": ".py",
   "mimetype": "text/x-python",
   "name": "python",
   "nbconvert_exporter": "python",
   "pygments_lexer": "ipython3",
   "version": "3.10.14"
  }
 },
 "nbformat": 4,
 "nbformat_minor": 5
}
