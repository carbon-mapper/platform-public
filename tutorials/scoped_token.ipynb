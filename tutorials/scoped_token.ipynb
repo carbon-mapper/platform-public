{
 "cells": [
  {
   "cell_type": "markdown",
   "id": "b4fe2ffde6eb93d3",
   "metadata": {},
   "source": [
    "# Obtaining a scoped API Token With STAC Privileges\n",
    "\n",
    "In this tutorial, we will request an access token from the platform API, and then request a scoped API token with STAC privileges from the [create STAC token](https://api.carbonmapper.org/api/v1/docs#/Account/account_api_token_tokens_create_stac) resource.\n",
    "\n",
    "Resource access is granted based on token scopes. While some resources are entirely public and others private, some others return different results depending on the authorization afforded by the token scope and the group that the account belongs to. The default scopes provided to a newly registered account are _STAC_ and _catalog:read_, and will belong to the _Public_ group. Information about public, catalog, and STAC resources can be found in the [platform API documentation](https://api.carbonmapper.org/).\n",
    "\n",
    "The scoped API token is only provided to the user once, upon generation. If generating the token for future use, it should be stored securely and should not be committed to code repositories.\n",
    "\n",
    "Users with Carbon Mapper platform accounts may obtain a scoped token. Users without accounts can [register](https://platform.carbonmapper.org/account/register/) on the Carbon Mapper platform website. "
   ]
  },
  {
   "cell_type": "markdown",
   "id": "3d73a6c3-01e2-4b01-9c33-2fce802758ec",
   "metadata": {},
   "source": [
    "## Installing Requirements\n",
    "\n",
    "For tutorial purposes, we will use IPython's [pip](https://ipython.readthedocs.io/en/stable/interactive/magics.html#magic-pip) magic command to install the [Requests](https://pypi.org/project/requests/) requirement in the current kernel."
   ]
  },
  {
   "cell_type": "code",
   "execution_count": null,
   "id": "e43da73e-823d-4344-b975-eff5ec593afe",
   "metadata": {},
   "outputs": [],
   "source": [
    "%pip install requests"
   ]
  },
  {
   "cell_type": "markdown",
   "id": "20bb79f1-052d-4d07-9353-f39f48d34c6c",
   "metadata": {},
   "source": [
    "## Requesting a Scoped Token"
   ]
  },
  {
   "cell_type": "code",
   "execution_count": null,
   "id": "2495a407c06be64a",
   "metadata": {},
   "outputs": [],
   "source": [
    "import getpass\n",
    "import json\n",
    "from datetime import datetime, timedelta\n",
    "\n",
    "import requests\n",
    "\n",
    "base_url = \"https://api.carbonmapper.org/api/v1/\"\n",
    "\n",
    "# Request a platform API access token\n",
    "account_token_path = \"token/pair\"\n",
    "account_email = input(\"Enter the email address associated with your Carbon Mapper account: \")\n",
    "account_password = getpass.getpass(\"Enter the password associated with your Carbon Mapper account: \")\n",
    "payload = {\n",
    "    \"email\": account_email,\n",
    "    \"password\": account_password,\n",
    "}\n",
    "\n",
    "response = requests.post(\n",
    "    f\"{base_url}{account_token_path}\",\n",
    "    json=payload,\n",
    ")\n",
    "response.raise_for_status()\n",
    "\n",
    "access_token = response.json()[\"access\"]\n",
    "\n",
    "# Request a scoped token with STAC privileges\n",
    "stac_token_path = \"account/tokens/create-stac\"\n",
    "stac_token_name = input(\"Enter the token name: \")\n",
    "# The token should expire one week from today\n",
    "expiration_date = datetime.now() + timedelta(days=7)\n",
    "payload = {\n",
    "    \"expiration_date\": expiration_date.strftime(\"%Y-%m-%d\"),\n",
    "    \"name\": stac_token_name,\n",
    "}\n",
    "\n",
    "response = requests.post(\n",
    "    f\"{base_url}{stac_token_path}\",\n",
    "    json=payload,\n",
    "    headers={\"Authorization\": f\"Bearer {access_token}\"},\n",
    ")\n",
    "response.raise_for_status()\n",
    "\n",
    "# Assign scoped token to a variable \n",
    "cm_scoped_token = response.json()\n",
    "\n",
    "# Store scoped token for use in other notebooks\n",
    "if input(\"Store scoped token for use in other notebooks? Y/n \").lower() == \"y\":\n",
    "    %store cm_scoped_token\n",
    "\n",
    "# Print scoped token for other uses\n",
    "print(json.dumps(cm_scoped_token, indent=4))"
   ]
  }
 ],
 "metadata": {
  "kernelspec": {
   "display_name": "Python 3 (ipykernel)",
   "language": "python",
   "name": "python3"
  },
  "language_info": {
   "codemirror_mode": {
    "name": "ipython",
    "version": 3
   },
   "file_extension": ".py",
   "mimetype": "text/x-python",
   "name": "python",
   "nbconvert_exporter": "python",
   "pygments_lexer": "ipython3",
   "version": "3.10.14"
  }
 },
 "nbformat": 4,
 "nbformat_minor": 5
}
